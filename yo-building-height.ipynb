{
 "cells": [
  {
   "cell_type": "markdown",
   "metadata": {},
   "source": [
    "# Building heights from EA LiDAR data\n",
    "Generate building heights from DSM and DEM LiDAR data products available from the Environment Agency and apply them to OS OpenMap building outlines.\n",
    "\n",
    "Steps:\n",
    "1. Subtract DEM from DSM\n",
    "2. Use zonal stats to get the mean height of the building\n",
    "3. Write out to a new shapefile \n",
    "\n",
    "Data sourced from:\n",
    "* LiDAR data products \n",
    "  https://environment.data.gov.uk/ds/survey/\n",
    "* Building outlines \n",
    "  https://www.ordnancesurvey.co.uk/business-and-government/products/os-open-map-local.html\n",
    "* Basemap for final image\n",
    "  http://www.openstreetmap.org/copyright"
   ]
  },
  {
   "cell_type": "code",
   "execution_count": null,
   "metadata": {},
   "outputs": [],
   "source": [
    "from osgeo import gdal\n",
    "import glob\n",
    "import numpy\n",
    "from rasterstats import zonal_stats\n",
    "import rasterio\n",
    "import fiona"
   ]
  },
  {
   "cell_type": "markdown",
   "metadata": {},
   "source": [
    "This function subtracts the DEM values from the DSM values to get the difference.  The mean of the values that fall within a building outline are then applied to those outlines to give them a height value."
   ]
  },
  {
   "cell_type": "code",
   "execution_count": null,
   "metadata": {},
   "outputs": [],
   "source": [
    "def getheights(dtmfile, dsmfile, zoneshp, outshp):\n",
    "    \"\"\"\n",
    "    Apply heights derived from elevation data to building outlines\n",
    "    Parameters\n",
    "    ----------\n",
    "    dtmfile : string\n",
    "        Path to dtm file\n",
    "    dsmfile : string\n",
    "        Path to dsm file\n",
    "    zoneshp : string\n",
    "        Path to shapefile to use for building outlines\n",
    "    outshp : string\n",
    "        Path to out shapefile\n",
    "    \"\"\"\n",
    "\n",
    "    with rasterio.open(dtmfile) as dtm:\n",
    "        dtmarray = dtm.read(1)\n",
    "        dtmaffine = dtm.affine\n",
    "\n",
    "    with rasterio.open(dsmfile) as dsm:\n",
    "        dsmarray = dsm.read(1)\n",
    "        # dsmaffine = dsm.affine\n",
    "\n",
    "    #------------------------------------------------------\n",
    "    # take the dtm heights from the dsm to get the height\n",
    "    #------------------------------------------------------\n",
    "    heightarray = dsmarray - dtmarray\n",
    "\n",
    "    #--------------\n",
    "    # zonal stats\n",
    "    #--------------\n",
    "    stats = zonal_stats(zoneshp,\n",
    "                        heightarray,\n",
    "                        affine=dtmaffine,\n",
    "                        stats=\"mean\",\n",
    "                        geojson_out=True)\n",
    "\n",
    "    # get the input schema to use for output\n",
    "    with fiona.open(zoneshp) as input:\n",
    "        output_schema = input.schema.copy()\n",
    "\n",
    "    # add stats fields to the schema\n",
    "    output_schema['properties']['mean'] = 'float'\n",
    "\n",
    "    # write out to shapefile\n",
    "    with fiona.open(heightshp, \n",
    "                    'w', \n",
    "                    'ESRI Shapefile', \n",
    "                    output_schema, \n",
    "                    crs=input.crs) as output:\n",
    "        for i, feat in enumerate(stats): \n",
    "            fproperties = stats[i]['properties']\n",
    "            fgeometry = stats[i]['geometry']\n",
    "\n",
    "            output.write({'properties': fproperties,'geometry': fgeometry})"
   ]
  },
  {
   "cell_type": "markdown",
   "metadata": {},
   "source": [
    "The data that is downloaded from the EA website comes in a series of smaller tiles.  These are joined into a virtual raster tile (VRT) using GDAL.  The VRT is then fed into the function to derive building heights."
   ]
  },
  {
   "cell_type": "code",
   "execution_count": null,
   "metadata": {},
   "outputs": [],
   "source": [
    "dtmvrt  = \"data/LIDAR-DTM-1M-WL.vrt\"\n",
    "dsmvrt  = \"data/LIDAR-DSM-1M-WL.vrt\"\n",
    "zoneshp = \"data/Building_WL.shp\"\n",
    "heightshp = \"data/wl_heights.shp\"\n",
    "\n",
    "#----------------------------------\n",
    "# BUILD VRTS FROM THE LIDAR TILES\n",
    "#----------------------------------\n",
    "\n",
    "# DTM\n",
    "gdal.BuildVRT(dtmvrt, glob.glob(\"data/dtm/LIDAR-DTM-1M-*/*.asc\"))\n",
    "\n",
    "# DSM\n",
    "gdal.BuildVRT(dsmvrt, glob.glob(\"data/dsm/LIDAR-DSM-1M-*/*.asc\"))\n",
    "\n",
    "#----------------------------------\n",
    "# GET HEIGHTS\n",
    "#----------------------------------\n",
    "getheights(dtmvrt, dsmvrt, zoneshp, heightshp)"
   ]
  },
  {
   "cell_type": "markdown",
   "metadata": {},
   "source": [
    "The resulting shapefile was visualised in ArcGIS Pro to produce the image below where the buildings are overlaid on an Open Street Map baselayer."
   ]
  },
  {
   "cell_type": "markdown",
   "metadata": {},
   "source": [
    "<img src=\"images/building_heights.png\">"
   ]
  },
  {
   "cell_type": "code",
   "execution_count": null,
   "metadata": {},
   "outputs": [],
   "source": []
  }
 ],
 "metadata": {
  "kernelspec": {
   "display_name": "Python 3",
   "language": "python",
   "name": "python3"
  },
  "language_info": {
   "codemirror_mode": {
    "name": "ipython",
    "version": 3
   },
   "file_extension": ".py",
   "mimetype": "text/x-python",
   "name": "python",
   "nbconvert_exporter": "python",
   "pygments_lexer": "ipython3",
   "version": "3.6.4"
  }
 },
 "nbformat": 4,
 "nbformat_minor": 2
}
