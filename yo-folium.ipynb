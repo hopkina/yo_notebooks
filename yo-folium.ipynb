{
 "cells": [
  {
   "cell_type": "markdown",
   "metadata": {},
   "source": [
    "# Hello Folium\n",
    "\n",
    "folium test using local authority total urban population data.  Map displays the total urban population.\n",
    "\n",
    "Data from ONS\n"
   ]
  },
  {
   "cell_type": "code",
   "execution_count": 1,
   "metadata": {},
   "outputs": [],
   "source": [
    "from IPython.display import HTML\n",
    "import folium\n",
    "import geopandas as gpd\n",
    "import pandas as pd"
   ]
  },
  {
   "cell_type": "code",
   "execution_count": 2,
   "metadata": {},
   "outputs": [
    {
     "data": {
      "text/html": [
       "<div>\n",
       "<style scoped>\n",
       "    .dataframe tbody tr th:only-of-type {\n",
       "        vertical-align: middle;\n",
       "    }\n",
       "\n",
       "    .dataframe tbody tr th {\n",
       "        vertical-align: top;\n",
       "    }\n",
       "\n",
       "    .dataframe thead th {\n",
       "        text-align: right;\n",
       "    }\n",
       "</style>\n",
       "<table border=\"1\" class=\"dataframe\">\n",
       "  <thead>\n",
       "    <tr style=\"text-align: right;\">\n",
       "      <th></th>\n",
       "      <th>objectid</th>\n",
       "      <th>lad17cd</th>\n",
       "      <th>lad17nm</th>\n",
       "      <th>tupopl</th>\n",
       "      <th>geometry</th>\n",
       "    </tr>\n",
       "  </thead>\n",
       "  <tbody>\n",
       "    <tr>\n",
       "      <th>0</th>\n",
       "      <td>1</td>\n",
       "      <td>E06000001</td>\n",
       "      <td>Hartlepool</td>\n",
       "      <td>86114</td>\n",
       "      <td>(POLYGON ((-1.26844117388882 54.72610606353965...</td>\n",
       "    </tr>\n",
       "    <tr>\n",
       "      <th>1</th>\n",
       "      <td>2</td>\n",
       "      <td>E06000002</td>\n",
       "      <td>Middlesbrough</td>\n",
       "      <td>134521</td>\n",
       "      <td>(POLYGON ((-1.24388912492707 54.58935059873627...</td>\n",
       "    </tr>\n",
       "    <tr>\n",
       "      <th>2</th>\n",
       "      <td>3</td>\n",
       "      <td>E06000003</td>\n",
       "      <td>Redcar and Cleveland</td>\n",
       "      <td>77506</td>\n",
       "      <td>(POLYGON ((-1.137563465253006 54.6457977349063...</td>\n",
       "    </tr>\n",
       "    <tr>\n",
       "      <th>3</th>\n",
       "      <td>4</td>\n",
       "      <td>E06000004</td>\n",
       "      <td>Stockton-on-Tees</td>\n",
       "      <td>153395</td>\n",
       "      <td>(POLYGON ((-1.31727126859867 54.64479207927998...</td>\n",
       "    </tr>\n",
       "    <tr>\n",
       "      <th>4</th>\n",
       "      <td>5</td>\n",
       "      <td>E06000005</td>\n",
       "      <td>Darlington</td>\n",
       "      <td>85917</td>\n",
       "      <td>POLYGON ((-1.637667535426974 54.61712823618399...</td>\n",
       "    </tr>\n",
       "  </tbody>\n",
       "</table>\n",
       "</div>"
      ],
      "text/plain": [
       "   objectid    lad17cd               lad17nm  tupopl  \\\n",
       "0         1  E06000001            Hartlepool   86114   \n",
       "1         2  E06000002         Middlesbrough  134521   \n",
       "2         3  E06000003  Redcar and Cleveland   77506   \n",
       "3         4  E06000004      Stockton-on-Tees  153395   \n",
       "4         5  E06000005            Darlington   85917   \n",
       "\n",
       "                                            geometry  \n",
       "0  (POLYGON ((-1.26844117388882 54.72610606353965...  \n",
       "1  (POLYGON ((-1.24388912492707 54.58935059873627...  \n",
       "2  (POLYGON ((-1.137563465253006 54.6457977349063...  \n",
       "3  (POLYGON ((-1.31727126859867 54.64479207927998...  \n",
       "4  POLYGON ((-1.637667535426974 54.61712823618399...  "
      ]
     },
     "execution_count": 2,
     "metadata": {},
     "output_type": "execute_result"
    }
   ],
   "source": [
    "polys = \"data/la_ruralurban_wgs84.geojson\"\n",
    "\n",
    "gdf = gpd.read_file(polys)\n",
    "gdf['geometry'] = gdf.simplify(0.001, preserve_topology=True)\n",
    "data = pd.DataFrame(gdf.drop(columns='geometry'))\n",
    "\n",
    "gdf.head()"
   ]
  },
  {
   "cell_type": "code",
   "execution_count": 3,
   "metadata": {},
   "outputs": [],
   "source": [
    "m = folium.Map([52.974, -1.495], zoom_start=6)\n",
    "\n",
    "m.choropleth(\n",
    "    geo_data=gdf,\n",
    "    name='Total Urban Population',\n",
    "    data=data,\n",
    "    columns=[\"lad17nm\", \"tupopl\"],\n",
    "    key_on='feature.properties.lad17nm',\n",
    "    threshold_scale=[0, 50000, 100000, 200000, 500000, 1000000],\n",
    "    fill_color='YlOrRd',\n",
    "    fill_opacity=0.7,\n",
    "    line_opacity=1,\n",
    "    line_color='white',\n",
    "    line_weight=0.7,\n",
    "    legend_name='Total Urban Population',\n",
    ")\n",
    "\n",
    "folium.LayerControl().add_to(m)\n",
    "m.save(\"hello-folium.html\")\n",
    "#m"
   ]
  },
  {
   "cell_type": "code",
   "execution_count": 4,
   "metadata": {},
   "outputs": [
    {
     "data": {
      "text/html": [
       "<iframe src=hello-folium.html width=900 height=600></iframe>"
      ],
      "text/plain": [
       "<IPython.core.display.HTML object>"
      ]
     },
     "execution_count": 4,
     "metadata": {},
     "output_type": "execute_result"
    }
   ],
   "source": [
    "HTML('<iframe src=hello-folium.html width=900 height=600></iframe>')"
   ]
  }
 ],
 "metadata": {
  "kernelspec": {
   "display_name": "Python 3",
   "language": "python",
   "name": "python3"
  },
  "language_info": {
   "codemirror_mode": {
    "name": "ipython",
    "version": 3
   },
   "file_extension": ".py",
   "mimetype": "text/x-python",
   "name": "python",
   "nbconvert_exporter": "python",
   "pygments_lexer": "ipython3",
   "version": "3.6.4"
  }
 },
 "nbformat": 4,
 "nbformat_minor": 2
}
